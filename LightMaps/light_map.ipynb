{
 "cells": [
  {
   "cell_type": "code",
   "execution_count": 1,
   "metadata": {},
   "outputs": [],
   "source": [
    "import numpy as np\n",
    "import matplotlib.pyplot as plt\n",
    "import torch\n",
    "from PIL import Image"
   ]
  },
  {
   "cell_type": "code",
   "execution_count": 2,
   "metadata": {},
   "outputs": [],
   "source": [
    "def load_hdr_image(file_path):\n",
    "    hdr_image = Image.open(file_path)\n",
    "    hdr_image = np.array(hdr_image).astype(np.float32)\n",
    "    return hdr_image"
   ]
  },
  {
   "cell_type": "code",
   "execution_count": 3,
   "metadata": {},
   "outputs": [],
   "source": [
    "def display_image(image, title='', cmap=None):\n",
    "    plt.figure(figsize=(10, 5))\n",
    "    plt.imshow(image, cmap=cmap)\n",
    "    plt.title(title)\n",
    "    plt.axis('on')\n",
    "    # plt.colorbar()\n",
    "    plt.show()"
   ]
  },
  {
   "cell_type": "code",
   "execution_count": 4,
   "metadata": {},
   "outputs": [],
   "source": [
    "def normalize_image(image):\n",
    "    image = image - np.min(image)\n",
    "    image = image / np.max(image)\n",
    "    return image"
   ]
  },
  {
   "cell_type": "code",
   "execution_count": 5,
   "metadata": {},
   "outputs": [],
   "source": [
    "def illumination_map(hdr_image):\n",
    "    hdr_image_normalized = normalize_image(hdr_image)\n",
    "    luminance_map = np.mean(hdr_image_normalized, axis=-1)\n",
    "\n",
    "    return luminance_map"
   ]
  },
  {
   "cell_type": "code",
   "execution_count": 6,
   "metadata": {},
   "outputs": [],
   "source": [
    "def surface_normals(shape):\n",
    "    height, width = shape\n",
    "    surface_normals = np.zeros((height, width, 3), dtype=np.float32)\n",
    "    \n",
    "    for i in range(height):\n",
    "        for j in range(width):\n",
    "            N = np.array([np.sin(np.pi * i / height) * np.cos(2 * np.pi * j / width),\n",
    "                          np.sin(np.pi * i / height) * np.sin(2 * np.pi * j / width),\n",
    "                          np.cos(np.pi * i / height)])\n",
    "            surface_normals[i, j] = N\n",
    "            \n",
    "    return surface_normals"
   ]
  },
  {
   "cell_type": "code",
   "execution_count": 7,
   "metadata": {},
   "outputs": [],
   "source": [
    "def angular_areas(hdr_image):\n",
    "    height, width, _ = hdr_image.shape\n",
    "    dtheta = np.pi / height\n",
    "    dphi = 2 * np.pi / width\n",
    "    \n",
    "    areas = np.zeros((height, width))\n",
    "    for i in range(height):\n",
    "        theta = (i + 0.5) * dtheta - np.pi / 2\n",
    "        sin_theta = np.sin(theta)\n",
    "        areas[i, :] = sin_theta * dtheta * dphi\n",
    "    \n",
    "    return areas"
   ]
  },
  {
   "cell_type": "code",
   "execution_count": 8,
   "metadata": {},
   "outputs": [],
   "source": [
    "def fd(N_dot_L, kd):\n",
    "    if N_dot_L > 0:\n",
    "        return kd * N_dot_L\n",
    "    return 0\n",
    "\n",
    "def diffuse_reflection(I, N, A, kd):\n",
    "    height, width = I.shape\n",
    "    D = np.zeros((height, width, 3), dtype=np.float32)\n",
    "    for i in range(height):\n",
    "        print(\"hi\")\n",
    "        for j in range(width):\n",
    "            if j%10 == 0:\n",
    "                print(\"hello\")\n",
    "            for l in range(height):\n",
    "                for m in range(width):\n",
    "                    L = N[l, m]\n",
    "                    N_dot_L = np.dot(N[i, j], L)\n",
    "                    for c in range(3):\n",
    "                        D[i, j, c] += I[l, m] * A[l, m] * fd(N_dot_L, kd)\n",
    "            D[i, j] /= (4 * np.pi)\n",
    "    return D"
   ]
  },
  {
   "cell_type": "code",
   "execution_count": 9,
   "metadata": {},
   "outputs": [],
   "source": [
    "def fs_phong_specular(N_dot_R, ks, n):\n",
    "    if N_dot_R > 0:\n",
    "        return ks * (N_dot_R ** n)\n",
    "    return 0\n",
    "\n",
    "def specular_reflection(I, N, A, ks, n):\n",
    "    height, width = I.shape\n",
    "    S = np.zeros((height, width, 3), dtype=np.float32)\n",
    "    \n",
    "    for i in range(height):\n",
    "        for j in range(width):\n",
    "            for l in range(height):\n",
    "                for m in range(width):\n",
    "                    L = N[l, m]\n",
    "                    R = 2 * np.dot(N[i, j], L) * N[i, j] - L\n",
    "                    N_dot_R = np.dot(N[i, j], R)\n",
    "                    specular_value = fs_phong_specular(N_dot_R, ks, n)\n",
    "                    for c in range(3):\n",
    "                        S[i, j, c] += I[l, m] * A[l, m] * specular_value\n",
    "            S[i, j] /= (4 * np.pi)\n",
    "    return S"
   ]
  },
  {
   "cell_type": "code",
   "execution_count": 10,
   "metadata": {},
   "outputs": [],
   "source": [
    "def output_intensity(D, S, N):\n",
    "    height, width = D.shape\n",
    "    intensity = np.zeros_like(D)\n",
    "    \n",
    "    Wd = 0.7\n",
    "    Ws = 0.3\n",
    "    \n",
    "    for i in range(height):\n",
    "        for j in range(width):\n",
    "            E = np.array([0, 0, 1])\n",
    "            R = 2 * np.dot(E, N[i, j]) * N[i, j] - E\n",
    "            N_dot_E = np.dot(N[i, j], E)\n",
    "            for c in range(3):\n",
    "                output_intensity[i, j, c] = Wd * N_dot_E * D[i, j, c] + Ws * N_dot_E * S[i, j, c]\n",
    "\n",
    "    intensity_normalized = (intensity - intensity.min()) / (intensity.max() - intensity.min())\n",
    "    \n",
    "    return intensity_normalized"
   ]
  },
  {
   "cell_type": "code",
   "execution_count": 11,
   "metadata": {},
   "outputs": [
    {
     "name": "stdout",
     "output_type": "stream",
     "text": [
      "hi\n",
      "hello\n"
     ]
    },
    {
     "ename": "KeyboardInterrupt",
     "evalue": "",
     "output_type": "error",
     "traceback": [
      "\u001b[0;31m---------------------------------------------------------------------------\u001b[0m",
      "\u001b[0;31mKeyboardInterrupt\u001b[0m                         Traceback (most recent call last)",
      "Cell \u001b[0;32mIn[11], line 19\u001b[0m\n\u001b[1;32m     17\u001b[0m ks \u001b[38;5;241m=\u001b[39m \u001b[38;5;241m0.5\u001b[39m\n\u001b[1;32m     18\u001b[0m n \u001b[38;5;241m=\u001b[39m \u001b[38;5;241m10\u001b[39m\n\u001b[0;32m---> 19\u001b[0m D \u001b[38;5;241m=\u001b[39m \u001b[43mdiffuse_reflection\u001b[49m\u001b[43m(\u001b[49m\u001b[43mI_map\u001b[49m\u001b[43m,\u001b[49m\u001b[43m \u001b[49m\u001b[43mN\u001b[49m\u001b[43m,\u001b[49m\u001b[43m \u001b[49m\u001b[43mA\u001b[49m\u001b[43m,\u001b[49m\u001b[43m \u001b[49m\u001b[43mkd\u001b[49m\u001b[43m)\u001b[49m\n\u001b[1;32m     20\u001b[0m \u001b[38;5;28mprint\u001b[39m(\u001b[38;5;124m\"\u001b[39m\u001b[38;5;124mdone\u001b[39m\u001b[38;5;124m\"\u001b[39m)\n\u001b[1;32m     21\u001b[0m S \u001b[38;5;241m=\u001b[39m specular_reflection(I_map, N, A, ks, n)\n",
      "Cell \u001b[0;32mIn[8], line 17\u001b[0m, in \u001b[0;36mdiffuse_reflection\u001b[0;34m(I, N, A, kd)\u001b[0m\n\u001b[1;32m     15\u001b[0m \u001b[38;5;28;01mfor\u001b[39;00m m \u001b[38;5;129;01min\u001b[39;00m \u001b[38;5;28mrange\u001b[39m(width):\n\u001b[1;32m     16\u001b[0m     L \u001b[38;5;241m=\u001b[39m N[l, m]\n\u001b[0;32m---> 17\u001b[0m     N_dot_L \u001b[38;5;241m=\u001b[39m \u001b[43mnp\u001b[49m\u001b[38;5;241;43m.\u001b[39;49m\u001b[43mdot\u001b[49m\u001b[43m(\u001b[49m\u001b[43mN\u001b[49m\u001b[43m[\u001b[49m\u001b[43mi\u001b[49m\u001b[43m,\u001b[49m\u001b[43m \u001b[49m\u001b[43mj\u001b[49m\u001b[43m]\u001b[49m\u001b[43m,\u001b[49m\u001b[43m \u001b[49m\u001b[43mL\u001b[49m\u001b[43m)\u001b[49m\n\u001b[1;32m     18\u001b[0m     \u001b[38;5;28;01mfor\u001b[39;00m c \u001b[38;5;129;01min\u001b[39;00m \u001b[38;5;28mrange\u001b[39m(\u001b[38;5;241m3\u001b[39m):\n\u001b[1;32m     19\u001b[0m         D[i, j, c] \u001b[38;5;241m+\u001b[39m\u001b[38;5;241m=\u001b[39m I[l, m] \u001b[38;5;241m*\u001b[39m A[l, m] \u001b[38;5;241m*\u001b[39m fd(N_dot_L, kd)\n",
      "File \u001b[0;32m/opt/miniconda3/envs/myenv/lib/python3.9/site-packages/numpy/core/multiarray.py:741\u001b[0m, in \u001b[0;36mdot\u001b[0;34m(a, b, out)\u001b[0m\n\u001b[1;32m    671\u001b[0m \u001b[38;5;250m    \u001b[39m\u001b[38;5;124;03m\"\"\"\u001b[39;00m\n\u001b[1;32m    672\u001b[0m \u001b[38;5;124;03m    result_type(*arrays_and_dtypes)\u001b[39;00m\n\u001b[1;32m    673\u001b[0m \n\u001b[0;32m   (...)\u001b[0m\n\u001b[1;32m    736\u001b[0m \n\u001b[1;32m    737\u001b[0m \u001b[38;5;124;03m    \"\"\"\u001b[39;00m\n\u001b[1;32m    738\u001b[0m     \u001b[38;5;28;01mreturn\u001b[39;00m arrays_and_dtypes\n\u001b[0;32m--> 741\u001b[0m \u001b[38;5;129m@array_function_from_c_func_and_dispatcher\u001b[39m(_multiarray_umath\u001b[38;5;241m.\u001b[39mdot)\n\u001b[1;32m    742\u001b[0m \u001b[38;5;28;01mdef\u001b[39;00m \u001b[38;5;21mdot\u001b[39m(a, b, out\u001b[38;5;241m=\u001b[39m\u001b[38;5;28;01mNone\u001b[39;00m):\n\u001b[1;32m    743\u001b[0m \u001b[38;5;250m    \u001b[39m\u001b[38;5;124;03m\"\"\"\u001b[39;00m\n\u001b[1;32m    744\u001b[0m \u001b[38;5;124;03m    dot(a, b, out=None)\u001b[39;00m\n\u001b[1;32m    745\u001b[0m \n\u001b[0;32m   (...)\u001b[0m\n\u001b[1;32m    829\u001b[0m \n\u001b[1;32m    830\u001b[0m \u001b[38;5;124;03m    \"\"\"\u001b[39;00m\n\u001b[1;32m    831\u001b[0m     \u001b[38;5;28;01mreturn\u001b[39;00m (a, b, out)\n",
      "\u001b[0;31mKeyboardInterrupt\u001b[0m: "
     ]
    }
   ],
   "source": [
    "file_path = 'test.hdr'\n",
    "hdr_image = load_hdr_image(file_path)\n",
    "hdr_tensor = np.array(hdr_image)\n",
    "hdr_tensor = normalize_image(hdr_tensor)\n",
    "\n",
    "R = hdr_tensor[:, :, 0]\n",
    "G = hdr_tensor[:, :, 1]\n",
    "B = hdr_tensor[:, :, 2]  \n",
    "\n",
    "I_map = illumination_map(hdr_image)\n",
    "display_image(I_map, title='Illumination_map', cmap='gray')\n",
    "\n",
    "# A = angular_areas(hdr_image)\n",
    "\n",
    "# height, width, _ = hdr_image.shape\n",
    "# N = surface_normals((height, width))\n",
    "\n",
    "# kd = 0.8\n",
    "# ks = 0.5\n",
    "# n = 10\n",
    "# D = diffuse_reflection(I_map, N, A, kd)\n",
    "# print(\"done\")\n",
    "# S = specular_reflection(I_map, N, A, ks, n)\n",
    "# intensity = output_intensity(D, S, N)\n",
    "\n",
    "# print(hdr_image.shape)\n",
    "# print(hdr_tensor.shape)\n",
    "# print(I_map.shape)\n",
    "# print(A.shape)\n",
    "# print(N.shape)\n",
    "# print(D.shape)\n",
    "# print(S.shape)\n",
    "# print(intensity.shape)\n",
    "\n",
    "# display_image(hdr_tensor, title='Actual Image', cmap='gray')\n",
    "# display_image(R, title='R Channel', cmap='Reds')\n",
    "# display_image(G, title='G Channel', cmap='Greens')\n",
    "# display_image(B, title='B Channel', cmap='Blues')\n",
    "# display_image(I_map, title='Illumination_map', cmap='gray')\n",
    "# display_image(intensity, title='Final Image', cmap=None)"
   ]
  }
 ],
 "metadata": {
  "kernelspec": {
   "display_name": "Python (myenv)",
   "language": "python",
   "name": "myenv"
  },
  "language_info": {
   "codemirror_mode": {
    "name": "ipython",
    "version": 3
   },
   "file_extension": ".py",
   "mimetype": "text/x-python",
   "name": "python",
   "nbconvert_exporter": "python",
   "pygments_lexer": "ipython3",
   "version": "3.9.18"
  }
 },
 "nbformat": 4,
 "nbformat_minor": 4
}
